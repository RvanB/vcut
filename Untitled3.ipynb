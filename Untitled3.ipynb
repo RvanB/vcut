{
 "cells": [
  {
   "cell_type": "code",
   "execution_count": 6,
   "id": "51003b18-49f6-494b-9ae6-4579d42040db",
   "metadata": {},
   "outputs": [
    {
     "name": "stderr",
     "output_type": "stream",
     "text": [
      "Gtk-Message: 22:01:25.322: Failed to load module \"appmenu-gtk-plugin\": 'gtk_module_display_init': /usr/lib/x86_64-linux-gnu/gtk-3.0/modules/libcanberra-gtk-module.so: undefined symbol: gtk_module_display_init\n",
      "Gtk-Message: 22:01:25.375: Failed to load module \"appmenu-gtk-plugin\": 'gtk_module_display_init': /usr/lib/x86_64-linux-gnu/gtk-3.0/modules/libcanberra-gtk-module.so: undefined symbol: gtk_module_display_init\n",
      "\n",
      "(ristretto:82205): Gtk-WARNING **: 22:01:25.501: Could not load a pixbuf from icon theme.\n",
      "This may indicate that pixbuf loaders or the mime database could not be found.\n"
     ]
    }
   ],
   "source": [
    "import numpy as np\n",
    "from PIL import Image\n",
    "from svgpathtools import svg2paths\n",
    "import math\n",
    "\n",
    "# Function to calculate the tangent of a line segment\n",
    "def calculate_tangent(p1, p2):\n",
    "    direction = np.array([p2[0] - p1[0], p2[1] - p1[1]], dtype=np.float32)\n",
    "    norm = np.linalg.norm(direction)\n",
    "    if norm == 0:\n",
    "        return np.array([0.0, 0.0], dtype=np.float32)\n",
    "    return direction / norm\n",
    "\n",
    "# Function to compute the normal vector from a tangent\n",
    "def compute_normal(tangent):\n",
    "    return np.array([-tangent[1], tangent[0]], dtype=np.float32)\n",
    "\n",
    "# Normalize SVG coordinates to fit within image resolution\n",
    "def normalize_coordinates(x, y, resolution, svg_width, svg_height):\n",
    "    norm_x = int((x / svg_width) * (resolution - 1))\n",
    "    norm_y = int((y / svg_height) * (resolution - 1))\n",
    "    return norm_x, norm_y\n",
    "\n",
    "# Main function to generate normal map from SVG\n",
    "def generate_normals_from_svg(svg_file, resolution=512, z_strength=1.0, samples_per_curve=10):\n",
    "    paths, attributes = svg2paths(svg_file)\n",
    "\n",
    "    # Compute global bounding box to scale all paths uniformly\n",
    "    min_x = min([path.bbox()[0] for path in paths])\n",
    "    min_y = min([path.bbox()[1] for path in paths])\n",
    "    max_x = max([path.bbox()[2] for path in paths])\n",
    "    max_y = max([path.bbox()[3] for path in paths])\n",
    "\n",
    "    svg_width = max_x - min_x\n",
    "    svg_height = max_y - min_y\n",
    "\n",
    "    normal_map = np.zeros((resolution, resolution, 3), dtype=np.uint8)\n",
    "\n",
    "    for path in paths:\n",
    "        for segment in path:\n",
    "            for t in np.linspace(0, 1, samples_per_curve):\n",
    "                p1 = segment.point(t)\n",
    "                # Forward difference for tangent approximation\n",
    "                t_eps = min(t + 1e-3, 1.0)\n",
    "                p2 = segment.point(t_eps)\n",
    "\n",
    "                tangent = calculate_tangent([p1.real, p1.imag], [p2.real, p2.imag])\n",
    "                normal2d = compute_normal(tangent)\n",
    "\n",
    "                # Construct 3D normal with fixed Z\n",
    "                nz = z_strength\n",
    "                normal3d = np.array([normal2d[0], normal2d[1], nz], dtype=np.float32)\n",
    "                normal3d /= np.linalg.norm(normal3d)\n",
    "\n",
    "                # Convert to normal map RGB\n",
    "                normal_rgb = ((normal3d + 1) * 127.5).astype(np.uint8)\n",
    "\n",
    "                # Normalize and clamp coordinates\n",
    "                px, py = normalize_coordinates(p1.real - min_x, p1.imag - min_y, resolution, svg_width, svg_height)\n",
    "                px = np.clip(px, 0, resolution - 1)\n",
    "                py = np.clip(py, 0, resolution - 1)\n",
    "\n",
    "                normal_map[py, px] = normal_rgb\n",
    "\n",
    "    return Image.fromarray(normal_map)\n",
    "\n",
    "svg_file = \"NewYorkTimes.svg\"  # Replace with your path\n",
    "normal_image = generate_normals_from_svg(svg_file, resolution=1024, z_strength=1.0)\n",
    "\n"
   ]
  },
  {
   "cell_type": "code",
   "execution_count": 7,
   "id": "33686c25-d87e-40ce-930f-e8a43aed995b",
   "metadata": {},
   "outputs": [
    {
     "data": {
      "text/plain": [
       "<matplotlib.image.AxesImage at 0x7f478c3be600>"
      ]
     },
     "execution_count": 7,
     "metadata": {},
     "output_type": "execute_result"
    },
    {
     "data": {
      "image/png": "[encoded data removed]",
      "text/plain": [
       "<Figure size 640x480 with 1 Axes>"
      ]
     },
     "metadata": {},
     "output_type": "display_data"
    }
   ],
   "source": [
    "import matplotlib.pyplot as plt\n",
    "\n",
    "plt.imshow(normal_image)"
   ]
  },
  {
   "cell_type": "code",
   "execution_count": null,
   "id": "5a717996-4985-4975-98a7-05110822af8b",
   "metadata": {},
   "outputs": [],
   "source": []
  }
 ],
 "metadata": {
  "kernelspec": {
   "display_name": "Python 3 (ipykernel)",
   "language": "python",
   "name": "python3"
  },
  "language_info": {
   "codemirror_mode": {
    "name": "ipython",
    "version": 3
   },
   "file_extension": ".py",
   "mimetype": "text/x-python",
   "name": "python",
   "nbconvert_exporter": "python",
   "pygments_lexer": "ipython3",
   "version": "3.12.10"
  }
 },
 "nbformat": 4,
 "nbformat_minor": 5
}
